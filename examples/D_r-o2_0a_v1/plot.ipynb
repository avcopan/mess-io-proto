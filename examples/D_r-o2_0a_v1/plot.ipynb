{
 "cells": [
  {
   "cell_type": "code",
   "execution_count": 1,
   "id": "bc2a2855",
   "metadata": {},
   "outputs": [],
   "source": [
    "from pathlib import Path\n",
    "\n",
    "import pyparsing as pp\n",
    "\n",
    "mess_inp_file = Path(\"01_1-32_mess.inp\")"
   ]
  },
  {
   "cell_type": "code",
   "execution_count": 3,
   "id": "86f14276",
   "metadata": {},
   "outputs": [
    {
     "name": "stdout",
     "output_type": "stream",
     "text": [
      "Well\n",
      "Bimolecular\n",
      "Barrier\n"
     ]
    }
   ],
   "source": [
    "from mess_io_proto import read\n",
    "\n",
    "block_dct = read.blocks(mess_inp_file)\n",
    "\n",
    "for key in block_dct:\n",
    "    print(key)"
   ]
  },
  {
   "cell_type": "code",
   "execution_count": null,
   "id": "3f117208",
   "metadata": {},
   "outputs": [],
   "source": []
  }
 ],
 "metadata": {
  "kernelspec": {
   "display_name": "proto",
   "language": "python",
   "name": "python3"
  },
  "language_info": {
   "codemirror_mode": {
    "name": "ipython",
    "version": 3
   },
   "file_extension": ".py",
   "mimetype": "text/x-python",
   "name": "python",
   "nbconvert_exporter": "python",
   "pygments_lexer": "ipython3",
   "version": "3.11.12"
  }
 },
 "nbformat": 4,
 "nbformat_minor": 5
}
