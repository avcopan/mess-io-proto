{
 "cells": [
  {
   "cell_type": "code",
   "execution_count": 1,
   "id": "bc2a2855",
   "metadata": {},
   "outputs": [],
   "source": [
    "from pathlib import Path\n",
    "\n",
    "import pyparsing as pp\n",
    "\n",
    "mess_inp_file = Path(\"01_1-32_mess.inp\")\n",
    "spc_file = Path(\"species.csv\")"
   ]
  },
  {
   "cell_type": "code",
   "execution_count": 2,
   "id": "86f14276",
   "metadata": {},
   "outputs": [],
   "source": [
    "from mess_io_proto import surface\n",
    "\n",
    "surf = surface.from_mess(mess_inp_file, spc_inp=spc_file)\n",
    "surf = surface.with_energies_relative_to(surf, 28)\n",
    "surf = surface.without_fake_wells(surf)\n",
    "surface.display_network(surf)"
   ]
  },
  {
   "cell_type": "code",
   "execution_count": 33,
   "id": "316f9aec",
   "metadata": {},
   "outputs": [
    {
     "name": "stdout",
     "output_type": "stream",
     "text": [
      "{28: 0, 0: 1, (0, 1): 2, 1: 3, (1, 22): 4, (0, 21): 5, (0, 3): 6, 3: 7, (3, 23): 8, (3, 20): 9, 22: 10, 21: 10, 23: 10, 20: 10}\n"
     ]
    },
    {
     "data": {
      "text/plain": [
       "<Figure size 1000x500 with 0 Axes>"
      ]
     },
     "metadata": {},
     "output_type": "display_data"
    },
    {
     "data": {
      "text/plain": [
       "<Figure size 640x480 with 0 Axes>"
      ]
     },
     "metadata": {},
     "output_type": "display_data"
    }
   ],
   "source": [
    "from importlib import reload\n",
    "\n",
    "from matplotlib import pyplot\n",
    "\n",
    "reload(surface)\n",
    "\n",
    "\n",
    "size = (10, 5)\n",
    "fig = pyplot.figure(figsize=size)\n",
    "fig = pyplot.figure()\n",
    "\n",
    "surface.plot_connected_paths(\n",
    "    surf, [[28, 0, 1, 22], [28, 0, 21], [28, 0, 3, 23], [28, 0, 3, 20]], fig=fig\n",
    ")"
   ]
  },
  {
   "cell_type": "code",
   "execution_count": 4,
   "id": "70ed1a11",
   "metadata": {},
   "outputs": [],
   "source": [
    "# path0 = surface.path_from_well_id_sequence(surf, [28, 0, 1, 22])\n",
    "# path1 = surface.path_from_well_id_sequence(surf, [28, 0, 21])\n",
    "# path1"
   ]
  },
  {
   "cell_type": "code",
   "execution_count": null,
   "id": "e33acc03",
   "metadata": {},
   "outputs": [],
   "source": []
  },
  {
   "cell_type": "code",
   "execution_count": 5,
   "id": "656839c3",
   "metadata": {},
   "outputs": [],
   "source": [
    "# from importlib import reload\n",
    "\n",
    "# from matplotlib import pyplot\n",
    "\n",
    "# reload(surface)\n",
    "\n",
    "\n",
    "# size = (10, 5)\n",
    "# fig = pyplot.figure(figsize=size)\n",
    "# fig = pyplot.figure()\n",
    "\n",
    "# data0 = list(enumerate(path0))\n",
    "# data1 = list(enumerate(path1))\n",
    "# fig = surface.plot_path_data(data0, fig=fig, amchi_mapping=surf.amchi_mapping)\n",
    "# fig = surface.plot_path_data(\n",
    "#     data1, fig=fig, amchi_mapping=surf.amchi_mapping, color=\"red\"\n",
    "# )"
   ]
  },
  {
   "cell_type": "code",
   "execution_count": null,
   "id": "306d3756",
   "metadata": {},
   "outputs": [],
   "source": []
  }
 ],
 "metadata": {
  "kernelspec": {
   "display_name": "proto",
   "language": "python",
   "name": "python3"
  },
  "language_info": {
   "codemirror_mode": {
    "name": "ipython",
    "version": 3
   },
   "file_extension": ".py",
   "mimetype": "text/x-python",
   "name": "python",
   "nbconvert_exporter": "python",
   "pygments_lexer": "ipython3",
   "version": "3.11.12"
  }
 },
 "nbformat": 4,
 "nbformat_minor": 5
}
