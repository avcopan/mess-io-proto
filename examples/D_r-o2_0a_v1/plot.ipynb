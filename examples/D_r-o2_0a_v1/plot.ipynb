{
 "cells": [
  {
   "cell_type": "code",
   "execution_count": 1,
   "id": "bc2a2855",
   "metadata": {},
   "outputs": [],
   "source": [
    "from pathlib import Path\n",
    "\n",
    "import pyparsing as pp\n",
    "\n",
    "mess_inp_file = Path(\"01_1-32_mess.inp\")"
   ]
  },
  {
   "cell_type": "code",
   "execution_count": 2,
   "id": "86f14276",
   "metadata": {},
   "outputs": [
    {
     "data": {
      "text/plain": [
       "[UnimolWell(id=0, energy=0.0, type='unimol', name='S(719)'),\n",
       " UnimolWell(id=1, energy=13.53, type='unimol', name='S(722)r0'),\n",
       " UnimolWell(id=2, energy=13.53, type='unimol', name='S(722)r1'),\n",
       " UnimolWell(id=3, energy=12.88, type='unimol', name='S(725)r0'),\n",
       " UnimolWell(id=4, energy=12.88, type='unimol', name='S(725)r1'),\n",
       " UnimolWell(id=5, energy=31.46, type='unimol', name='S(728)e'),\n",
       " UnimolWell(id=6, energy=31.49, type='unimol', name='S(728)z'),\n",
       " UnimolWell(id=7, energy=30.03, type='unimol', name='S(731)r0'),\n",
       " UnimolWell(id=8, energy=30.03, type='unimol', name='S(731)r1'),\n",
       " NMolWell(id=9, energy=-11.58, type='nmol', names=['C5H8O(833)', 'OH(4)'], interacting=True, fake=True),\n",
       " UnimolWell(id=10, energy=30.88, type='unimol', name='S(734)r1'),\n",
       " UnimolWell(id=11, energy=30.88, type='unimol', name='S(734)r0'),\n",
       " NMolWell(id=12, energy=16.4, type='nmol', names=['C5H8(522)', 'HO2(8)'], interacting=True, fake=True),\n",
       " NMolWell(id=13, energy=-7.42, type='nmol', names=['C5H8O(825)rs', 'OH(4)'], interacting=True, fake=True),\n",
       " NMolWell(id=14, energy=2.84, type='nmol', names=['C5H8O(829)rs', 'OH(4)'], interacting=True, fake=True),\n",
       " NMolWell(id=15, energy=37.05, type='nmol', names=['C2H4(52)', 'S(2258)e'], interacting=True, fake=True),\n",
       " NMolWell(id=16, energy=36.15, type='nmol', names=['C2H4(52)', 'S(2258)z'], interacting=True, fake=True),\n",
       " NMolWell(id=17, energy=36.33, type='nmol', names=['C2H4O2(58)', 'C3H5(122)'], interacting=True, fake=True),\n",
       " NMolWell(id=18, energy=32.69, type='nmol', names=['C5H8(524)', 'HO2(8)'], interacting=True, fake=True),\n",
       " NMolWell(id=19, energy=28.6, type='nmol', names=['C5H9(553)', 'O2(6)'], interacting=True, fake=True),\n",
       " NMolWell(id=20, energy=-8.58, type='nmol', names=['C5H8O(833)', 'OH(4)'], interacting=False, fake=False),\n",
       " NMolWell(id=21, energy=19.4, type='nmol', names=['C5H8(522)', 'HO2(8)'], interacting=False, fake=False),\n",
       " NMolWell(id=22, energy=-4.42, type='nmol', names=['C5H8O(825)rs', 'OH(4)'], interacting=False, fake=False),\n",
       " NMolWell(id=23, energy=5.84, type='nmol', names=['C5H8O(829)rs', 'OH(4)'], interacting=False, fake=False),\n",
       " NMolWell(id=24, energy=40.05, type='nmol', names=['C2H4(52)', 'S(2258)e'], interacting=False, fake=False),\n",
       " NMolWell(id=25, energy=39.15, type='nmol', names=['C2H4(52)', 'S(2258)z'], interacting=False, fake=False),\n",
       " NMolWell(id=26, energy=39.33, type='nmol', names=['C2H4O2(58)', 'C3H5(122)'], interacting=False, fake=False),\n",
       " NMolWell(id=27, energy=35.69, type='nmol', names=['C5H8(524)', 'HO2(8)'], interacting=False, fake=False),\n",
       " NMolWell(id=28, energy=31.6, type='nmol', names=['C5H9(553)', 'O2(6)'], interacting=False, fake=False)]"
      ]
     },
     "execution_count": 2,
     "metadata": {},
     "output_type": "execute_result"
    }
   ],
   "source": [
    "from mess_io_proto import surface\n",
    "\n",
    "surf = surface.from_mess(mess_inp_file)\n",
    "surf = surface.from_graph(surface.graph(surf))\n",
    "surf.wells"
   ]
  },
  {
   "cell_type": "code",
   "execution_count": 3,
   "id": "09e5dfad",
   "metadata": {},
   "outputs": [],
   "source": [
    "surface.display_network(surf)"
   ]
  }
 ],
 "metadata": {
  "kernelspec": {
   "display_name": "proto",
   "language": "python",
   "name": "python3"
  },
  "language_info": {
   "codemirror_mode": {
    "name": "ipython",
    "version": 3
   },
   "file_extension": ".py",
   "mimetype": "text/x-python",
   "name": "python",
   "nbconvert_exporter": "python",
   "pygments_lexer": "ipython3",
   "version": "3.11.12"
  }
 },
 "nbformat": 4,
 "nbformat_minor": 5
}
